{
  "nbformat": 4,
  "nbformat_minor": 0,
  "metadata": {
    "colab": {
      "provenance": [],
      "toc_visible": true,
      "authorship_tag": "ABX9TyPKzV9LUjNbCk8iqrC+hrM2",
      "include_colab_link": true
    },
    "kernelspec": {
      "name": "python3",
      "display_name": "Python 3"
    },
    "language_info": {
      "name": "python"
    }
  },
  "cells": [
    {
      "cell_type": "markdown",
      "metadata": {
        "id": "view-in-github",
        "colab_type": "text"
      },
      "source": [
        "<a href=\"https://colab.research.google.com/github/MrSherratt/Python-MS/blob/main/Ms1_IF_statements.ipynb\" target=\"_parent\"><img src=\"https://colab.research.google.com/assets/colab-badge.svg\" alt=\"Open In Colab\"/></a>"
      ]
    },
    {
      "cell_type": "markdown",
      "source": [
        "# If statements in programs take different paths depending on user input"
      ],
      "metadata": {
        "id": "DXD67CapB9rb"
      }
    },
    {
      "cell_type": "code",
      "execution_count": null,
      "metadata": {
        "colab": {
          "base_uri": "https://localhost:8080/"
        },
        "id": "jFH2Ve9JBQN6",
        "outputId": "1214b161-ed4d-4327-9445-e3d07b488053"
      },
      "outputs": [
        {
          "output_type": "stream",
          "name": "stdout",
          "text": [
            "enter your grade54\n",
            "good\n"
          ]
        }
      ],
      "source": [
        "mark = int(input (\"enter your grade\"))\n",
        "\n",
        "if mark in range (0, 40):\n",
        "  print(\"ungraded\")\n",
        "if mark in range (41, 60):\n",
        "  print(\"good\")\n"
      ]
    },
    {
      "cell_type": "code",
      "source": [
        "# Write a program for a teacher.\n",
        "\n"
      ],
      "metadata": {
        "id": "WJHHCP2ICPyQ"
      },
      "execution_count": null,
      "outputs": []
    },
    {
      "cell_type": "code",
      "source": [
        "# Write a computer program for a rollercoaster ride"
      ],
      "metadata": {
        "id": "2zCRgbE6Echi"
      },
      "execution_count": null,
      "outputs": []
    },
    {
      "cell_type": "code",
      "source": [
        "# Write your own program with if statements"
      ],
      "metadata": {
        "id": "120Ef94wEf5b"
      },
      "execution_count": null,
      "outputs": []
    }
  ]
}